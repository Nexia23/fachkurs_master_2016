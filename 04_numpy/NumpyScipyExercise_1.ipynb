{
 "cells": [
  {
   "cell_type": "markdown",
   "metadata": {},
   "source": [
    "# Exercise Numpy/Scipy"
   ]
  },
  {
   "cell_type": "markdown",
   "metadata": {},
   "source": [
    "### 1. Basics\n",
    "1. generate a 1-vector of size 10\n",
    "2. generate a zero-matrix of size 4x3\n",
    "3. generate a 3x3 identity matrix\n",
    "4. generate 100 evenly spaced values between 7 and 9\n",
    "5. Form the 2-D array (without typing it in explicitly):    \n",
    "[[1,  6, 11],<br/>\n",
    "[2,  7, 12],<br/>\n",
    "[3,  8, 13],<br/>\n",
    "[4,  9, 14],<br/>\n",
    "[5, 10, 15]]<br/>\n",
    "6. contruct a vector of length 100 with alternating ones and zeros ( hint: use slice indexing )\n",
    "7. construct a 8x8 matrix with a checkboard pattern of zeros and ones\n",
    "8. compute the inverse, eigenvectors and eigenvalues of the following matrix:\n",
    "$$\\mathbf{A} = \\left[\\begin{array}\n",
    "{rrr}\n",
    "6 & 4 & 9 \\\\\n",
    "1 & 0 & 2 \\\\\n",
    "3 & 1 & 1\n",
    "\\end{array}\\right]\n",
    "$$\n"
   ]
  },
  {
   "cell_type": "code",
   "execution_count": 4,
   "metadata": {
    "collapsed": false
   },
   "outputs": [],
   "source": [
    "import numpy as np"
   ]
  },
  {
   "cell_type": "code",
   "execution_count": 9,
   "metadata": {
    "collapsed": false
   },
   "outputs": [
    {
     "data": {
      "text/plain": [
       "array([[-0.92966919, -0.58940787,  0.10871529],\n",
       "       [-0.16085139, -0.39550451, -0.9363942 ],\n",
       "       [-0.33142424,  0.70439658,  0.3336868 ]])"
      ]
     },
     "execution_count": 9,
     "metadata": {},
     "output_type": "execute_result"
    }
   ],
   "source": [
    "a = np.array([range(10)])\n",
    "z = np.zeros((4,3))\n",
    "i = np.identity((3))\n",
    "ev = np.linspace(7,9,100)\n",
    "a5 = np.linspace(1,15, 15).reshape(3,5).T\n",
    "a6 = np.ones((100))\n",
    "a6[1::2] = 0 \n",
    "a7=np.ones((8,8))\n",
    "a7 [::2,::2]=0\n",
    "a7[1::2,1::2]=0\n",
    "a8 = np.array([6,4,9,1,0,2,3,1,1]).reshape(3,3)\n",
    "ina8 = np.linalg.inv(a8)\n",
    "ewa8,eva8 = np.linalg.eig(a8)\n",
    "a\n",
    "z\n",
    "i\n",
    "ev\n",
    "a5\n",
    "a7\n",
    "a8\n",
    "ina8\n",
    "ewa8\n",
    "eva8\n"
   ]
  },
  {
   "cell_type": "markdown",
   "metadata": {},
   "source": [
    "# 2. Mandelbrot\n",
    "\n",
    "The mandelbrot set is defined as the set of complex numbers $c$ for which the iteration $z_{n+1} = (z_n)^2 + c$, with $z_0=0$ does not diverge. In this exercise we want to compute the Mandelbrot set within a certain range.\n",
    "\n",
    "1. implement the function `in_mandelbrot( real, comp )` which computes whether a complex number (real = real part, comp=complex part) belongs to the mandelbrot set. Hint: the complex number 5+3i can be constructed in python as follows: `c = 5 + 1j*3`. Iterate `N_max` times and use the threshold `thresh`.\n",
    "2. generate a 2D array with `1000x1000` zeros called `M`\n",
    "3. compute for for all complex numbers with real part between -2 and 1 and with complex part between -1.5 and 1.5 whether they belong the Mandelbrot set and store the result in `M`.\n"
   ]
  },
  {
   "cell_type": "code",
   "execution_count": 18,
   "metadata": {
    "collapsed": false
   },
   "outputs": [
    {
     "name": "stderr",
     "output_type": "stream",
     "text": [
      "/usr/local/lib/python3.4/dist-packages/ipykernel/__main__.py:31: DeprecationWarning: using a non-integer number instead of an integer will result in an error in the future\n",
      "/usr/local/lib/python3.4/dist-packages/ipykernel/__main__.py:31: ComplexWarning: Casting complex values to real discards the imaginary part\n",
      "/usr/local/lib/python3.4/dist-packages/ipykernel/__main__.py:32: DeprecationWarning: using a non-integer number instead of an integer will result in an error in the future\n",
      "/usr/local/lib/python3.4/dist-packages/ipykernel/__main__.py:32: ComplexWarning: Casting complex values to real discards the imaginary part\n"
     ]
    }
   ],
   "source": [
    "N_max = 50 # number of iterations\n",
    "thresh = 50 # threshold\n",
    "\n",
    "\n",
    "def in_mandelbrot( real, comp ):\n",
    "    z_next=thresh + 1\n",
    "    x=0\n",
    "    # computes whether a complex number (real = real part, comp=complex part) belongs to the mandelbrot set\n",
    "    while x <= N_max:\n",
    "        z_next = (real)**2 + 1j*comp\n",
    "\n",
    "        x+=1\n",
    "        real = z_next.real\n",
    "        comp = z_next.imag\n",
    "        if z_next.real >thresh:\n",
    "            break\n",
    "    \n",
    "    if z_next.real <= thresh:\n",
    "        return True\n",
    "    else :\n",
    "        return False\n",
    "    \n",
    "ima=np.linspace(1j*(-1.5),1j*1.5,100)\n",
    "\n",
    "rea=np.linspace(-2,1,100)\n",
    "\n",
    "M = np.zeros((100,100))\n",
    "\n",
    "for i in rea:\n",
    "    for j in ima:\n",
    "        M[i,j]=in_mandelbrot(rea[i],ima[j])\n",
    "        if M[i,j] :\n",
    "            print (i,j)\n"
   ]
  },
  {
   "cell_type": "code",
   "execution_count": 14,
   "metadata": {
    "collapsed": false
   },
   "outputs": [],
   "source": [
    "# plot the mandelbrot fractal\n",
    "# assusmes M is a 2D array filled with boolean values\n",
    "import matplotlib.pyplot as plt\n",
    "plt.imshow( M)\n",
    "plt.show()"
   ]
  },
  {
   "cell_type": "code",
   "execution_count": 109,
   "metadata": {
    "collapsed": false
   },
   "outputs": [],
   "source": [
    "class meep:\n",
    "    def __init__(self):\n",
    "        self.maap = 23\n",
    "    def __repr__(self):\n",
    "        return \"Meep Object\""
   ]
  },
  {
   "cell_type": "code",
   "execution_count": 100,
   "metadata": {
    "collapsed": false
   },
   "outputs": [],
   "source": [
    "mo = meep()"
   ]
  },
  {
   "cell_type": "code",
   "execution_count": 1,
   "metadata": {
    "collapsed": false
   },
   "outputs": [
    {
     "ename": "TypeError",
     "evalue": "can only assign an iterable",
     "output_type": "error",
     "traceback": [
      "\u001b[1;31m---------------------------------------------------------------------------\u001b[0m",
      "\u001b[1;31mTypeError\u001b[0m                                 Traceback (most recent call last)",
      "\u001b[1;32m<ipython-input-1-b4d38b546e9e>\u001b[0m in \u001b[0;36m<module>\u001b[1;34m()\u001b[0m\n\u001b[0;32m      1\u001b[0m \u001b[0mtest\u001b[0m\u001b[1;33m=\u001b[0m\u001b[1;33m[\u001b[0m\u001b[1;36m1\u001b[0m\u001b[1;33m,\u001b[0m\u001b[1;36m2\u001b[0m\u001b[1;33m,\u001b[0m\u001b[1;36m3\u001b[0m\u001b[1;33m,\u001b[0m\u001b[1;36m4\u001b[0m\u001b[1;33m,\u001b[0m\u001b[1;36m5\u001b[0m\u001b[1;33m,\u001b[0m\u001b[1;36m6\u001b[0m\u001b[1;33m]\u001b[0m\u001b[1;33m\u001b[0m\u001b[0m\n\u001b[1;32m----> 2\u001b[1;33m \u001b[0mtest\u001b[0m\u001b[1;33m[\u001b[0m\u001b[1;33m:\u001b[0m\u001b[1;36m3\u001b[0m\u001b[1;33m]\u001b[0m\u001b[1;33m=\u001b[0m\u001b[1;36m1\u001b[0m\u001b[1;33m\u001b[0m\u001b[0m\n\u001b[0m",
      "\u001b[1;31mTypeError\u001b[0m: can only assign an iterable"
     ]
    }
   ],
   "source": [
    "test=[1,2,3,4,5,6]\n",
    "test[:3]=1"
   ]
  },
  {
   "cell_type": "code",
   "execution_count": 104,
   "metadata": {
    "collapsed": true
   },
   "outputs": [],
   "source": [
    "fa = meep()"
   ]
  },
  {
   "cell_type": "code",
   "execution_count": 105,
   "metadata": {
    "collapsed": false
   },
   "outputs": [
    {
     "data": {
      "text/plain": [
       "23"
      ]
     },
     "execution_count": 105,
     "metadata": {},
     "output_type": "execute_result"
    }
   ],
   "source": [
    "fa.maap"
   ]
  },
  {
   "cell_type": "code",
   "execution_count": 110,
   "metadata": {
    "collapsed": true
   },
   "outputs": [],
   "source": [
    "liste = []"
   ]
  },
  {
   "cell_type": "code",
   "execution_count": 111,
   "metadata": {
    "collapsed": true
   },
   "outputs": [],
   "source": [
    "for i in range(5):\n",
    "    liste.append(meep())"
   ]
  },
  {
   "cell_type": "code",
   "execution_count": 112,
   "metadata": {
    "collapsed": false
   },
   "outputs": [
    {
     "data": {
      "text/plain": [
       "[Meep Object, Meep Object, Meep Object, Meep Object, Meep Object]"
      ]
     },
     "execution_count": 112,
     "metadata": {},
     "output_type": "execute_result"
    }
   ],
   "source": [
    "liste"
   ]
  },
  {
   "cell_type": "code",
   "execution_count": 116,
   "metadata": {
    "collapsed": false
   },
   "outputs": [
    {
     "name": "stdout",
     "output_type": "stream",
     "text": [
      "0\n",
      "23\n",
      "1\n",
      "23\n",
      "2\n",
      "23\n",
      "3\n",
      "23\n",
      "4\n",
      "23\n"
     ]
    }
   ],
   "source": [
    "for i, ot in enumerate(liste):\n",
    "    print(i)\n",
    "    print(ot.maap)"
   ]
  },
  {
   "cell_type": "code",
   "execution_count": null,
   "metadata": {
    "collapsed": true
   },
   "outputs": [],
   "source": []
  }
 ],
 "metadata": {
  "kernelspec": {
   "display_name": "Python 3",
   "language": "python",
   "name": "python3"
  },
  "language_info": {
   "codemirror_mode": {
    "name": "ipython",
    "version": 3
   },
   "file_extension": ".py",
   "mimetype": "text/x-python",
   "name": "python",
   "nbconvert_exporter": "python",
   "pygments_lexer": "ipython3",
   "version": "3.4.3"
  }
 },
 "nbformat": 4,
 "nbformat_minor": 0
}
