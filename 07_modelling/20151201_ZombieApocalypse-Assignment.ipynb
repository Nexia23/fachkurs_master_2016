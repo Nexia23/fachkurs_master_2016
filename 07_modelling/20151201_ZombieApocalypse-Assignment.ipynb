{
 "cells": [
  {
   "cell_type": "markdown",
   "metadata": {},
   "source": [
    "Ordinary Differential Equations - ODE\n",
    "====================\n",
    "or 'How to Model the Zombie Apocalypse'\n",
    "---------------------------------------------\n",
    "Jens Hahn - 01/12/2015\n",
    "\n",
    "Content taken from:      \n",
    "**Scipy Docs** at http://scipy-cookbook.readthedocs.org/items/Zombie_Apocalypse_ODEINT.html      \n",
    "Munz *et al.* (2009): http://mysite.science.uottawa.ca/rsmith43/Zombies.pdf"
   ]
  },
  {
   "cell_type": "markdown",
   "metadata": {},
   "source": [
    "Introduction\n",
    "=======\n",
    "What is an ODE\n",
    "----------------\n",
    "Differential equations can be used to describe the time-dependent behaviour of a variable.      \n",
    "$$\\frac{\\text{d}\\vec{x}}{\\text{d}t} = \\vec{f}(\\vec{x}, t)$$   \n",
    "In our case the variable stands for the number of humans in a infected (zombies) or not infected population.\n",
    "Of course they can also be used to describe the change of concentrations in a cell or other continuous or quasi-continuous quantity.     \n",
    "\n",
    "In general, a first order ODE has two parts, the increasing (birth, formation,...) and the decreasing (death, degradation, ...) part:\n",
    "\n",
    "$$\\frac{\\text{d}\\vec{x}}{\\text{d}t} = \\sum_{}\\text{Rates}_{\\text{production}} - \\sum_{}\\text{Rates}_{\\text{loss}}$$ \n",
    "\n",
    "\n",
    "You probably already know ways to solve a differential equation algebraically by 'separation of variables' (Trennung der Variablen) in the homogeneous case or 'variation of parameters' (Variation der Konstanten) in the inhomogeneous case. Here, we want to discuss the use of numerical methods to solve your ODE system."
   ]
  },
  {
   "cell_type": "markdown",
   "metadata": {},
   "source": [
    "Solve the model\n",
    "==========\n",
    "The zombie apokalypse model\n",
    "-------------------------\n",
    "Let's have a look at our equations:\n",
    "\n",
    "Number of susceptible victims $S$:\n",
    "$$\\frac{\\text{d}S}{\\text{d}t} = \\text{???}$$\n",
    "\n",
    "Number of zombies $Z$:\n",
    "$$\\frac{\\text{d}Z}{\\text{d}t} = \\text{???}$$\n",
    "\n",
    "Number of people \"killed\" $R$:\n",
    "$$\\frac{\\text{d}R}{\\text{d}t} = \\text{???}$$\n",
    "\n",
    "Parameters:     \n",
    "P: the population birth rate      \n",
    "d: the chance of a natural death      \n",
    "B: the chance the “zombie disease” is transmitted (an alive person becomes a zombie)      \n",
    "G: the chance a dead person is resurrected into a zombie      \n",
    "A: the chance a zombie is totally destroyed by a human      "
   ]
  },
  {
   "cell_type": "markdown",
   "metadata": {},
   "source": [
    "Let's start\n",
    "------------\n",
    "Before we start the simulation of our model, we have to define our system.     \n",
    "We start with our static information:\n",
    "1. Initial conditions for our variables\n",
    "2. Values of the paramters\n",
    "3. Simulation time \n",
    "4. Number of time points at which we want to have the values for our variables (the time grid). *Use numpy!!*"
   ]
  },
  {
   "cell_type": "code",
   "execution_count": 32,
   "metadata": {
    "collapsed": false
   },
   "outputs": [],
   "source": [
    "import numpy as np\n",
    "# 1. initial conditions\n",
    "            # initial population\n",
    "pop= 300\n",
    "            # initial zombie population\n",
    "zpop=0\n",
    "            # initial death population\n",
    "dpop=0\n",
    "            # initial condition vector\n",
    "vpop=np.array([pop,zpop,dpop])\n",
    "\n",
    "# 2. parameter values\n",
    "            # birth rate\n",
    "br= 0.00003\n",
    "            # 'natural' death percent (per day)\n",
    "nd=0.032\n",
    "            # transmission percent  (per day)\n",
    "bite=10\n",
    "            # resurect percent (per day)\n",
    "resc=1009\n",
    "            # destroy percent  (per day)\n",
    "dest= 0.00005\n",
    "\n",
    "# 3. simulation time\n",
    "            # start time in days\n",
    "start=0\n",
    "            # end time in days\n",
    "stop=1\n",
    "            # time grid, 1000 steps or data points (NUMPY!!!)\n",
    "t=np.linspace(start,stop,1000)"
   ]
  },
  {
   "cell_type": "markdown",
   "metadata": {},
   "source": [
    "In the second step, we write a small function **f**, that receives a list of the current values of our variables **x** and the current time **t**. The function has to evaluate the equations of our system or $\\frac{\\text{d}\\vec{x}}{\\text{d}t}$, respectively. Afterwards, it returns the values of the equations as another list.     \n",
    "**Important**   \n",
    "*Since this function **f** is used by the solver, we are not allowed to change the input (arguments) or output (return value) of this function.*"
   ]
  },
  {
   "cell_type": "code",
   "execution_count": 3,
   "metadata": {
    "collapsed": true
   },
   "outputs": [],
   "source": [
    "# function 'f' or 'dxdt' to evaluate the changes of the system dy/dt = f(y, t)\n",
    "def f(x,t):\n",
    "    dpop=br*vpop[0]-nd*vpop[0]-bite*vpop[0]*vpop[1]\n",
    "    dzpop=bite*vpop[0]*vpop[1]+resc*vpop[2]-dest*vpop[0]*vpop[1]\n",
    "    ddpop=nd*vpop[0]-resc*vpop[2]\n",
    "    dvpop=np.array([dpop,dzpop,ddpop])\n",
    "    return(dvpop)"
   ]
  },
  {
   "cell_type": "markdown",
   "metadata": {},
   "source": [
    "Last but not least, we need to import and call our solver. The result will be a matrix with our time courses as columns and the values at the specified time points. Since we have a values for every time point and every species, we can directly plot the results using *matplotlib*. "
   ]
  },
  {
   "cell_type": "code",
   "execution_count": 33,
   "metadata": {
    "collapsed": false
   },
   "outputs": [
    {
     "data": {
      "text/plain": [
       "<matplotlib.legend.Legend at 0x7efc572bd828>"
      ]
     },
     "execution_count": 33,
     "metadata": {},
     "output_type": "execute_result"
    },
    {
     "data": {
      "image/png": "[encoded data removed]",
      "text/plain": [
       "<matplotlib.figure.Figure at 0x7efc577eecf8>"
      ]
     },
     "metadata": {},
     "output_type": "display_data"
    }
   ],
   "source": [
    "# zombie apocalypse modeling\n",
    "import matplotlib.pyplot as plt  # for plotting\n",
    "# plots inside the notebook\n",
    "%matplotlib inline  \n",
    "from scipy.integrate import odeint  # the integrator\n",
    "\n",
    "# solve the DEs\n",
    "result = odeint(f, vpop, t)\n",
    "S = result[:, 0]\n",
    "Z = result[:, 1]\n",
    "R = result[:, 2]\n",
    "\n",
    "# plot results\n",
    "plt.figure()\n",
    "plt.plot(t, S, label='Humans')\n",
    "plt.plot(t, Z, label='Zombies')\n",
    "plt.plot(t, R, label='Dead Humans')\n",
    "plt.xlabel('Days from outbreak')\n",
    "plt.ylabel('Population')\n",
    "plt.title('Zombie Apocalypse - No Init. Dead Pop.; No New Births.')\n",
    "plt.ylim([0,500])\n",
    "plt.legend(loc=0)"
   ]
  },
  {
   "cell_type": "markdown",
   "metadata": {},
   "source": [
    "Literature:\n",
    "=======\n",
    "1. L. Grüne & O. Junge - **Gewöhnliche Differentialgleichungen** - Vieweg+Teubner - 2009\n",
    "2. E. Hairer *et al.* - **Solving Ordinary Differential Equations I** - Springer - 2008\n",
    "3. E. Klipp *et al.* - **Systems Biology**: A Textbook - Wiley-Blackwell - 2009\n",
    "4. B. Ingalls - **Mathematical Modeling in Systems Biology**: An Introduction - MIT Press - 2013\n",
    "4. M. Covert - **Fundamentals of Systems Biology** - CRC Press - 2015\n",
    "6. H. Sauro - **Systems Biology**: Introduction to Pathway Modeling - Ambrosius Publishing - 2014\n",
    "\n"
   ]
  }
 ],
 "metadata": {
  "kernelspec": {
   "display_name": "Python 3",
   "language": "python",
   "name": "python3"
  },
  "language_info": {
   "codemirror_mode": {
    "name": "ipython",
    "version": 3
   },
   "file_extension": ".py",
   "mimetype": "text/x-python",
   "name": "python",
   "nbconvert_exporter": "python",
   "pygments_lexer": "ipython3",
   "version": "3.4.3"
  }
 },
 "nbformat": 4,
 "nbformat_minor": 0
}
